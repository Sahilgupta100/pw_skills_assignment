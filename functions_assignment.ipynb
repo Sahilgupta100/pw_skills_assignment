{
  "nbformat": 4,
  "nbformat_minor": 0,
  "metadata": {
    "colab": {
      "provenance": [],
      "authorship_tag": "ABX9TyPPJEVEzOf1Vhuzd/spxwzR",
      "include_colab_link": true
    },
    "kernelspec": {
      "name": "python3",
      "display_name": "Python 3"
    },
    "language_info": {
      "name": "python"
    }
  },
  "cells": [
    {
      "cell_type": "markdown",
      "metadata": {
        "id": "view-in-github",
        "colab_type": "text"
      },
      "source": [
        "<a href=\"https://colab.research.google.com/github/Sahilgupta100/pw_skills_assignment/blob/main/functions_assignment.ipynb\" target=\"_parent\"><img src=\"https://colab.research.google.com/assets/colab-badge.svg\" alt=\"Open In Colab\"/></a>"
      ]
    },
    {
      "cell_type": "code",
      "execution_count": 1,
      "metadata": {
        "colab": {
          "base_uri": "https://localhost:8080/"
        },
        "id": "VM_o1W84HlE6",
        "outputId": "11f2a06a-a2b0-4239-d69f-6229a8c198f5"
      },
      "outputs": [
        {
          "output_type": "stream",
          "name": "stdout",
          "text": [
            "6\n"
          ]
        }
      ],
      "source": [
        "# Write a Python function that takes a list of numbers as input and returns the sum of all even numbers in the list.\n",
        "def sum_even(lst):\n",
        "    return sum(x for x in lst if x % 2 == 0)\n",
        "\n",
        "print(sum_even([1,2,3,4]))"
      ]
    },
    {
      "cell_type": "code",
      "source": [
        "#2. Create a Python function that accepts a string and returns the reverse of that string.\n",
        "def reverse_string(s):\n",
        "    return s[::-1]\n",
        "\n",
        "print(reverse_string('sahil'))"
      ],
      "metadata": {
        "colab": {
          "base_uri": "https://localhost:8080/"
        },
        "id": "fA59eSumIHbj",
        "outputId": "810288ef-fca4-475a-820b-c58f3ac7546c"
      },
      "execution_count": 4,
      "outputs": [
        {
          "output_type": "stream",
          "name": "stdout",
          "text": [
            "lihas\n"
          ]
        }
      ]
    },
    {
      "cell_type": "code",
      "source": [
        "#3. Implement a Python function that takes a list of integers and returns a new list containing the squares of each number.\n",
        "def square_list(lst):\n",
        "    return [x**2 for x in lst]\n",
        "\n",
        "print(square_list([1,2,3,4]))"
      ],
      "metadata": {
        "colab": {
          "base_uri": "https://localhost:8080/"
        },
        "id": "dPxqVZdvIUNh",
        "outputId": "bf171316-0558-4268-e52f-d189aa234520"
      },
      "execution_count": 6,
      "outputs": [
        {
          "output_type": "stream",
          "name": "stdout",
          "text": [
            "[1, 4, 9, 16]\n"
          ]
        }
      ]
    },
    {
      "cell_type": "code",
      "source": [
        "#4. Write a Python function that checks if a given number is prime or not from 1 to 200.\n",
        "def is_prime(n):\n",
        "    if n < 2:\n",
        "        return False\n",
        "    for i in range(2, int(n**0.5)+1):\n",
        "        if n % i == 0:\n",
        "            return False\n",
        "    return True\n",
        "\n",
        "for i in range(1, 201):\n",
        "    if is_prime(i):\n",
        "        print(i, end=' ')\n"
      ],
      "metadata": {
        "colab": {
          "base_uri": "https://localhost:8080/"
        },
        "id": "BNznpEdqIoXf",
        "outputId": "59be20e3-5c57-44fe-c157-275e39569c23"
      },
      "execution_count": 7,
      "outputs": [
        {
          "output_type": "stream",
          "name": "stdout",
          "text": [
            "2 3 5 7 11 13 17 19 23 29 31 37 41 43 47 53 59 61 67 71 73 79 83 89 97 101 103 107 109 113 127 131 137 139 149 151 157 163 167 173 179 181 191 193 197 199 "
          ]
        }
      ]
    },
    {
      "cell_type": "code",
      "source": [
        "#5. Create an iterator class in Python that generates the Fibonacci sequence up to a specified number of terms.\n",
        "class Fibonacci:\n",
        "    def __init__(self, max_terms):\n",
        "        self.a, self.b = 0, 1\n",
        "        self.max_terms = max_terms\n",
        "        self.count = 0\n",
        "\n",
        "    def __iter__(self):\n",
        "        return self\n",
        "\n",
        "    def __next__(self):\n",
        "        if self.count < self.max_terms:\n",
        "            val = self.a\n",
        "            self.a, self.b = self.b, self.a + self.b\n",
        "            self.count += 1\n",
        "            return val\n",
        "        else:\n",
        "            raise StopIteration"
      ],
      "metadata": {
        "id": "5mG7rQUcJGVS"
      },
      "execution_count": 8,
      "outputs": []
    },
    {
      "cell_type": "code",
      "source": [
        "#6. Write a generator function in Python that yields the powers of 2 up to a given exponent.\n",
        "# Generator function definition\n",
        "def powers_of_two(n):\n",
        "    for i in range(n + 1):\n",
        "        yield 2 ** i\n",
        "\n",
        "# Example usage\n",
        "print(\"Powers of 2 from 0 to 5:\")\n",
        "for power in powers_of_two(5):\n",
        "    print(power)\n"
      ],
      "metadata": {
        "colab": {
          "base_uri": "https://localhost:8080/"
        },
        "id": "A6ioNCF3JWjR",
        "outputId": "106814b7-41b1-4266-e2c5-52dbeb2c01b1"
      },
      "execution_count": 12,
      "outputs": [
        {
          "output_type": "stream",
          "name": "stdout",
          "text": [
            "Powers of 2 from 0 to 5:\n",
            "1\n",
            "2\n",
            "4\n",
            "8\n",
            "16\n",
            "32\n"
          ]
        }
      ]
    },
    {
      "cell_type": "code",
      "source": [
        "#7. Implement a generator function that reads a file line by line and yields each line as a string.\n",
        "# Generator function definition\n",
        "def read_file_lines(filepath):\n",
        "    with open(filepath, 'r') as file:\n",
        "        for line in file:\n",
        "            yield line.strip()  # strip removes newline and extra spaces\n",
        "\n",
        "# Example usage\n",
        "# Create a sample file for demonstration\n",
        "with open('sample.txt', 'w') as f:\n",
        "    f.write(\"Hello\\n\")\n",
        "    f.write(\"This is a sample file\\n\")\n",
        "    f.write(\"With multiple lines\\n\")\n",
        "\n",
        "# Read the file using the generator\n",
        "print(\"Reading lines from sample.txt:\")\n",
        "for line in read_file_lines('sample.txt'):\n",
        "    print(line)\n"
      ],
      "metadata": {
        "colab": {
          "base_uri": "https://localhost:8080/"
        },
        "id": "gO_KJf4YJl7m",
        "outputId": "e1aebe68-cb2e-4592-c5e9-8d5498d1ac34"
      },
      "execution_count": 13,
      "outputs": [
        {
          "output_type": "stream",
          "name": "stdout",
          "text": [
            "Reading lines from sample.txt:\n",
            "Hello\n",
            "This is a sample file\n",
            "With multiple lines\n"
          ]
        }
      ]
    },
    {
      "cell_type": "code",
      "source": [
        "#8. Use a lambda function in Python to sort a list of tuples based on the second element of each tuple.\n",
        "# Sample list of tuples\n",
        "tuples_list = [(1, 3), (4, 1), (2, 5), (7, 0)]\n",
        "\n",
        "# Sorting the list using a lambda function based on the second element of each tuple\n",
        "sorted_list = sorted(tuples_list, key=lambda x: x[1])\n",
        "\n",
        "# Output the sorted list\n",
        "print(\"Sorted list based on second element:\")\n",
        "print(sorted_list)\n"
      ],
      "metadata": {
        "colab": {
          "base_uri": "https://localhost:8080/"
        },
        "id": "hsh_ce0pKpk0",
        "outputId": "be9713e5-815b-4c10-829a-8a28fd6f56ab"
      },
      "execution_count": 14,
      "outputs": [
        {
          "output_type": "stream",
          "name": "stdout",
          "text": [
            "Sorted list based on second element:\n",
            "[(7, 0), (4, 1), (1, 3), (2, 5)]\n"
          ]
        }
      ]
    },
    {
      "cell_type": "code",
      "source": [
        "#9. Write a Python program that uses `map()` to convert a list of temperatures from Celsius to Fahrenheit\n",
        "# List of temperatures in Celsius\n",
        "celsius_temps = [0, 10, 20, 37, 100]\n",
        "\n",
        "# Convert to Fahrenheit using map and a lambda function\n",
        "fahrenheit_temps = list(map(lambda c: (9/5) * c + 32, celsius_temps))\n",
        "\n",
        "# Output the converted temperatures\n",
        "print(\"Temperatures in Fahrenheit:\")\n",
        "print(fahrenheit_temps)\n"
      ],
      "metadata": {
        "colab": {
          "base_uri": "https://localhost:8080/"
        },
        "id": "hGjUEaVaLAVH",
        "outputId": "02e2b85d-823e-445f-c2ab-0443c2d8f7e8"
      },
      "execution_count": 15,
      "outputs": [
        {
          "output_type": "stream",
          "name": "stdout",
          "text": [
            "Temperatures in Fahrenheit:\n",
            "[32.0, 50.0, 68.0, 98.60000000000001, 212.0]\n"
          ]
        }
      ]
    },
    {
      "cell_type": "code",
      "source": [
        "#10. Create a Python program that uses `filter()` to remove all the vowels from a given string.\n",
        "# Input string\n",
        "input_str = \"Hello, this is a sample sentence with vowels.\"\n",
        "\n",
        "# Use filter and lambda to remove vowels\n",
        "no_vowels = ''.join(filter(lambda ch: ch.lower() not in 'aeiou', input_str))\n",
        "\n",
        "# Output the string without vowels\n",
        "print(\"String after removing vowels:\")\n",
        "print(no_vowels)\n"
      ],
      "metadata": {
        "colab": {
          "base_uri": "https://localhost:8080/"
        },
        "id": "DCKIG45eLVtw",
        "outputId": "61095127-e5b5-423e-9d91-b6296588ca0e"
      },
      "execution_count": 16,
      "outputs": [
        {
          "output_type": "stream",
          "name": "stdout",
          "text": [
            "String after removing vowels:\n",
            "Hll, ths s  smpl sntnc wth vwls.\n"
          ]
        }
      ]
    },
    {
      "cell_type": "code",
      "source": [],
      "metadata": {
        "id": "49xMr7xrLh7_"
      },
      "execution_count": null,
      "outputs": []
    }
  ]
}