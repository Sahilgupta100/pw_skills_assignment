{
  "nbformat": 4,
  "nbformat_minor": 0,
  "metadata": {
    "colab": {
      "provenance": [],
      "authorship_tag": "ABX9TyMTpAqcX2AwsQURRf6DiGXD",
      "include_colab_link": true
    },
    "kernelspec": {
      "name": "python3",
      "display_name": "Python 3"
    },
    "language_info": {
      "name": "python"
    }
  },
  "cells": [
    {
      "cell_type": "markdown",
      "metadata": {
        "id": "view-in-github",
        "colab_type": "text"
      },
      "source": [
        "<a href=\"https://colab.research.google.com/github/Sahilgupta100/pw_skills_assignment/blob/main/Robotics_Code.ipynb\" target=\"_parent\"><img src=\"https://colab.research.google.com/assets/colab-badge.svg\" alt=\"Open In Colab\"/></a>"
      ]
    },
    {
      "cell_type": "markdown",
      "source": [
        "Coordinate Transformation And Its Inverse"
      ],
      "metadata": {
        "id": "Rvj_xaqCQXmA"
      }
    },
    {
      "cell_type": "code",
      "execution_count": 1,
      "metadata": {
        "colab": {
          "base_uri": "https://localhost:8080/"
        },
        "id": "iAsRP7s_OnTZ",
        "outputId": "9c636ed1-8912-4004-dc85-9e3f9a58b8a5"
      },
      "outputs": [
        {
          "output_type": "stream",
          "name": "stdout",
          "text": [
            "Homogeneous Transformation Matrix:\n",
            "[[ 0.35355339 -0.61237244  0.70710678  1.        ]\n",
            " [ 0.9267767   0.12682648 -0.35355339  2.        ]\n",
            " [ 0.12682648  0.78033009  0.61237244  3.        ]\n",
            " [ 0.          0.          0.          1.        ]]\n",
            "\n",
            "Inverse Transformation Matrix:\n",
            "[[ 0.35355339  0.9267767   0.12682648 -2.58758623]\n",
            " [-0.61237244  0.12682648  0.78033009 -1.98227079]\n",
            " [ 0.70710678 -0.35355339  0.61237244 -1.83711731]\n",
            " [ 0.          0.          0.          1.        ]]\n"
          ]
        }
      ],
      "source": [
        "import numpy as np\n",
        "\n",
        "def translation_matrix(tx, ty, tz):\n",
        "    \"\"\"Returns a 4x4 translation matrix.\"\"\"\n",
        "    return np.array([\n",
        "        [1, 0, 0, tx],\n",
        "        [0, 1, 0, ty],\n",
        "        [0, 0, 1, tz],\n",
        "        [0, 0, 0, 1]\n",
        "    ])\n",
        "\n",
        "def rotation_matrix_x(theta):\n",
        "    \"\"\"Returns a 4x4 rotation matrix around the X-axis.\"\"\"\n",
        "    c, s = np.cos(theta), np.sin(theta)\n",
        "    return np.array([\n",
        "        [1, 0,  0, 0],\n",
        "        [0, c, -s, 0],\n",
        "        [0, s,  c, 0],\n",
        "        [0, 0,  0, 1]\n",
        "    ])\n",
        "\n",
        "def rotation_matrix_y(theta):\n",
        "    \"\"\"Returns a 4x4 rotation matrix around the Y-axis.\"\"\"\n",
        "    c, s = np.cos(theta), np.sin(theta)\n",
        "    return np.array([\n",
        "        [ c, 0, s, 0],\n",
        "        [ 0, 1, 0, 0],\n",
        "        [-s, 0, c, 0],\n",
        "        [ 0, 0, 0, 1]\n",
        "    ])\n",
        "\n",
        "def rotation_matrix_z(theta):\n",
        "    \"\"\"Returns a 4x4 rotation matrix around the Z-axis.\"\"\"\n",
        "    c, s = np.cos(theta), np.sin(theta)\n",
        "    return np.array([\n",
        "        [c, -s, 0, 0],\n",
        "        [s,  c, 0, 0],\n",
        "        [0,  0, 1, 0],\n",
        "        [0,  0, 0, 1]\n",
        "    ])\n",
        "\n",
        "def homogeneous_transformation(tx, ty, tz, rx, ry, rz):\n",
        "    \"\"\"Returns a homogeneous transformation matrix given translation and rotation angles.\"\"\"\n",
        "    T = translation_matrix(tx, ty, tz) @ rotation_matrix_x(rx) @ rotation_matrix_y(ry) @ rotation_matrix_z(rz)\n",
        "    return T\n",
        "\n",
        "def inverse_transformation(T):\n",
        "    \"\"\"Returns the inverse of a given homogeneous transformation matrix.\"\"\"\n",
        "    R = T[:3, :3]\n",
        "    t = T[:3, 3]\n",
        "    T_inv = np.eye(4)\n",
        "    T_inv[:3, :3] = R.T\n",
        "    T_inv[:3, 3] = -R.T @ t\n",
        "    return T_inv\n",
        "\n",
        "# Example usage\n",
        "if __name__ == \"__main__\":\n",
        "    tx, ty, tz = 1, 2, 3  # Translation values\n",
        "    rx, ry, rz = np.radians(30), np.radians(45), np.radians(60)  # Rotation angles in radians\n",
        "\n",
        "    T = homogeneous_transformation(tx, ty, tz, rx, ry, rz)\n",
        "    print(\"Homogeneous Transformation Matrix:\")\n",
        "    print(T)\n",
        "\n",
        "    T_inv = inverse_transformation(T)\n",
        "    print(\"\\nInverse Transformation Matrix:\")\n",
        "    print(T_inv)\n"
      ]
    },
    {
      "cell_type": "markdown",
      "source": [
        "Rotation About General Axis"
      ],
      "metadata": {
        "id": "lc2t5zw_QjVQ"
      }
    },
    {
      "cell_type": "code",
      "source": [
        "import numpy as np\n",
        "\n",
        "def rotation_matrix(axis, angle):\n",
        "    \"\"\"\n",
        "    Compute the rotation matrix for a rotation around an arbitrary axis.\n",
        "\n",
        "    :param axis: 3-element list or array representing the axis of rotation (must be a unit vector)\n",
        "    :param angle: Rotation angle in radians\n",
        "    :return: 3x3 rotation matrix\n",
        "    \"\"\"\n",
        "    axis = np.array(axis, dtype=float)\n",
        "    axis = axis / np.linalg.norm(axis)  # Normalize to make it a unit vector\n",
        "\n",
        "    kx, ky, kz = axis\n",
        "    cos_theta = np.cos(angle)\n",
        "    sin_theta = np.sin(angle)\n",
        "\n",
        "    # Skew-symmetric matrix K\n",
        "    K = np.array([[0, -kz, ky],\n",
        "                  [kz, 0, -kx],\n",
        "                  [-ky, kx, 0]])\n",
        "\n",
        "    # Compute rotation matrix using Rodrigues' formula\n",
        "    R = np.eye(3) + sin_theta * K + (1 - cos_theta) * np.dot(K, K)\n",
        "    return R\n",
        "\n",
        "def rotate_point(point, axis, angle):\n",
        "    \"\"\"\n",
        "    Rotate a 3D point around an arbitrary axis.\n",
        "\n",
        "    :param point: 3-element list or array representing the 3D point\n",
        "    :param axis: 3-element list or array representing the axis of rotation (must be a unit vector)\n",
        "    :param angle: Rotation angle in radians\n",
        "    :return: Rotated 3D point as a numpy array\n",
        "    \"\"\"\n",
        "    R = rotation_matrix(axis, angle)\n",
        "    rotated_point = np.dot(R, point)\n",
        "    return rotated_point\n",
        "\n",
        "# Example Usage\n",
        "if __name__ == \"__main__\":\n",
        "    axis = [1, 1, 1]  # General axis (will be normalized)\n",
        "    angle = np.pi / 4  # Rotate by 45 degrees\n",
        "    point = [1, 0, 0]  # Initial point\n",
        "\n",
        "    rotated_point = rotate_point(point, axis, angle)\n",
        "    print(\"Rotated Point:\", rotated_point)\n"
      ],
      "metadata": {
        "colab": {
          "base_uri": "https://localhost:8080/"
        },
        "id": "EcwYe1NPO-jm",
        "outputId": "bf69b1be-0ddd-4945-ca9d-77de499fba01"
      },
      "execution_count": 2,
      "outputs": [
        {
          "output_type": "stream",
          "name": "stdout",
          "text": [
            "Rotated Point: [ 0.80473785  0.50587936 -0.31061722]\n"
          ]
        }
      ]
    },
    {
      "cell_type": "markdown",
      "source": [
        "Homogeneous Transformation"
      ],
      "metadata": {
        "id": "hZK3InHZRjSC"
      }
    },
    {
      "cell_type": "code",
      "source": [
        "import numpy as np\n",
        "\n",
        "class HomogeneousTransformation:\n",
        "    def __init__(self, rotation_matrix, translation_vector):\n",
        "        \"\"\"\n",
        "        Initialize the homogeneous transformation matrix.\n",
        "        :param rotation_matrix: 3x3 numpy array representing rotation\n",
        "        :param translation_vector: 3x1 numpy array representing translation\n",
        "        \"\"\"\n",
        "        self.T = np.eye(4)  # Initialize 4x4 identity matrix\n",
        "        self.T[:3, :3] = rotation_matrix  # Set rotation part\n",
        "        self.T[:3, 3] = translation_vector.flatten()  # Set translation part\n",
        "\n",
        "    def transform_point(self, point):\n",
        "        \"\"\"\n",
        "        Transform a 3D point using the homogeneous transformation matrix.\n",
        "        :param point: 3x1 numpy array representing the point\n",
        "        :return: Transformed 3x1 numpy array\n",
        "        \"\"\"\n",
        "        point_h = np.append(point, 1)  # Convert to homogeneous coordinates\n",
        "        transformed_point_h = np.dot(self.T, point_h)  # Apply transformation\n",
        "        return transformed_point_h[:3]  # Convert back to 3D coordinates\n",
        "\n",
        "    def inverse_transform(self):\n",
        "        \"\"\"\n",
        "        Compute the inverse of the transformation.\n",
        "        :return: Inverse transformation as a new HomogeneousTransformation object\n",
        "        \"\"\"\n",
        "        R_inv = self.T[:3, :3].T  # Transpose of the rotation matrix\n",
        "        t_inv = -np.dot(R_inv, self.T[:3, 3])  # Compute inverse translation\n",
        "        return HomogeneousTransformation(R_inv, t_inv)\n",
        "\n",
        "# Example Usage\n",
        "if __name__ == \"__main__\":\n",
        "    R = np.array([[0, -1, 0],  # 90-degree rotation about Z-axis\n",
        "                  [1, 0, 0],\n",
        "                  [0, 0, 1]])\n",
        "    t = np.array([2, 3, 1])  # Translation vector\n",
        "\n",
        "    transform = HomogeneousTransformation(R, t)\n",
        "\n",
        "    point = np.array([1, 1, 0])  # Example point in original frame\n",
        "    transformed_point = transform.transform_point(point)\n",
        "    print(\"Transformed Point:\", transformed_point)\n",
        "\n",
        "    inverse_transform = transform.inverse_transform()\n",
        "    original_point = inverse_transform.transform_point(transformed_point)\n",
        "    print(\"Recovered Original Point:\", original_point)\n"
      ],
      "metadata": {
        "colab": {
          "base_uri": "https://localhost:8080/"
        },
        "id": "SIBcRGUFROKT",
        "outputId": "ca2ff06e-4ab4-460d-e9a3-44b7937c4981"
      },
      "execution_count": 3,
      "outputs": [
        {
          "output_type": "stream",
          "name": "stdout",
          "text": [
            "Transformed Point: [1. 4. 1.]\n",
            "Recovered Original Point: [1. 1. 0.]\n"
          ]
        }
      ]
    },
    {
      "cell_type": "markdown",
      "source": [
        "Velocity of a point"
      ],
      "metadata": {
        "id": "muVW1ez9Rv-H"
      }
    },
    {
      "cell_type": "code",
      "source": [
        "import numpy as np\n",
        "\n",
        "def velocity_of_point(V_O, omega, r):\n",
        "    \"\"\"\n",
        "    Compute the velocity of a point in a moving frame.\n",
        "\n",
        "    :param V_O: 3x1 numpy array representing the linear velocity of the origin\n",
        "    :param omega: 3x1 numpy array representing the angular velocity vector\n",
        "    :param r: 3x1 numpy array representing the position vector of the point relative to the origin\n",
        "    :return: 3x1 numpy array representing the velocity of the point\n",
        "    \"\"\"\n",
        "    V_P = V_O + np.cross(omega, r)  # Compute velocity using cross-product\n",
        "    return V_P\n",
        "\n",
        "# Example Usage\n",
        "if __name__ == \"__main__\":\n",
        "    V_O = np.array([1, 2, 0])  # Linear velocity of the moving frame origin\n",
        "    omega = np.array([0, 0, 2])  # Angular velocity (about Z-axis)\n",
        "    r = np.array([3, 4, 0])  # Position of the point relative to the moving frame origin\n",
        "\n",
        "    V_P = velocity_of_point(V_O, omega, r)\n",
        "    print(\"Velocity of the point P:\", V_P)\n"
      ],
      "metadata": {
        "colab": {
          "base_uri": "https://localhost:8080/"
        },
        "id": "9jw3WrteRria",
        "outputId": "849a56de-7af4-4341-9442-0296a2ed97de"
      },
      "execution_count": 4,
      "outputs": [
        {
          "output_type": "stream",
          "name": "stdout",
          "text": [
            "Velocity of the point P: [-7  8  0]\n"
          ]
        }
      ]
    },
    {
      "cell_type": "markdown",
      "source": [
        "Arm Matrix"
      ],
      "metadata": {
        "id": "o4P-JlNISKOi"
      }
    },
    {
      "cell_type": "code",
      "source": [
        "import numpy as np\n",
        "\n",
        "def dh_transform_matrix(theta, d, a, alpha):\n",
        "    \"\"\"\n",
        "    Compute the Denavit-Hartenberg (D-H) transformation matrix.\n",
        "\n",
        "    :param theta: Joint angle (in radians)\n",
        "    :param d: Link offset\n",
        "    :param a: Link length\n",
        "    :param alpha: Link twist (in radians)\n",
        "    :return: 4x4 Transformation Matrix\n",
        "    \"\"\"\n",
        "    ct, st = np.cos(theta), np.sin(theta)\n",
        "    ca, sa = np.cos(alpha), np.sin(alpha)\n",
        "\n",
        "    return np.array([\n",
        "        [ct, -st * ca,  st * sa, a * ct],\n",
        "        [st,  ct * ca, -ct * sa, a * st],\n",
        "        [0,       sa,      ca,       d],\n",
        "        [0,        0,       0,       1]\n",
        "    ])\n",
        "\n",
        "def forward_kinematics(dh_params):\n",
        "    \"\"\"\n",
        "    Compute the forward kinematics using a list of D-H parameters.\n",
        "\n",
        "    :param dh_params: List of tuples (theta, d, a, alpha) for each joint\n",
        "    :return: 4x4 Homogeneous Transformation Matrix of End-Effector\n",
        "    \"\"\"\n",
        "    T = np.eye(4)  # Identity matrix (Base Frame)\n",
        "    for params in dh_params:\n",
        "        T_i = dh_transform_matrix(*params)  # Compute transformation for this joint\n",
        "        T = np.dot(T, T_i)  # Multiply transformation matrices\n",
        "    return T\n",
        "\n",
        "# Example Usage (2-link robotic arm)\n",
        "if __name__ == \"__main__\":\n",
        "    # Example D-H parameters (theta in radians, d, a, alpha in radians)\n",
        "    dh_params = [\n",
        "        (np.radians(30),  2,  3, np.radians(0)),  # Joint 1\n",
        "        (np.radians(45),  0,  2, np.radians(0))   # Joint 2\n",
        "    ]\n",
        "\n",
        "    T_end_effector = forward_kinematics(dh_params)\n",
        "    print(\"End-Effector Transformation Matrix:\\n\", T_end_effector)\n"
      ],
      "metadata": {
        "colab": {
          "base_uri": "https://localhost:8080/"
        },
        "id": "lF9pFJS3SIte",
        "outputId": "664dc3a8-9ed1-448d-8226-fa65da285d7c"
      },
      "execution_count": 5,
      "outputs": [
        {
          "output_type": "stream",
          "name": "stdout",
          "text": [
            "End-Effector Transformation Matrix:\n",
            " [[ 0.25881905 -0.96592583  0.          3.1157143 ]\n",
            " [ 0.96592583  0.25881905  0.          3.43185165]\n",
            " [ 0.          0.          1.          2.        ]\n",
            " [ 0.          0.          0.          1.        ]]\n"
          ]
        }
      ]
    },
    {
      "cell_type": "code",
      "source": [],
      "metadata": {
        "id": "vPI8DyccSbAA"
      },
      "execution_count": null,
      "outputs": []
    }
  ]
}